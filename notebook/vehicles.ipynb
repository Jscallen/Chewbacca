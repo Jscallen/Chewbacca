{
 "cells": [
  {
   "cell_type": "code",
   "execution_count": 2,
   "id": "ff7bfe64",
   "metadata": {},
   "outputs": [],
   "source": [
    "import requests\n",
    "import pandas as pd"
   ]
  },
  {
   "cell_type": "code",
   "execution_count": 3,
   "id": "cbfeb72b",
   "metadata": {},
   "outputs": [
    {
     "ename": "IndentationError",
     "evalue": "expected an indented block after 'while' statement on line 4 (336751557.py, line 5)",
     "output_type": "error",
     "traceback": [
      "\u001b[0;36m  Cell \u001b[0;32mIn [3], line 5\u001b[0;36m\u001b[0m\n\u001b[0;31m    response = requests.get(url)\u001b[0m\n\u001b[0m    ^\u001b[0m\n\u001b[0;31mIndentationError\u001b[0m\u001b[0;31m:\u001b[0m expected an indented block after 'while' statement on line 4\n"
     ]
    }
   ],
   "source": [
    "def get_swapi_data(category):\n",
    "    url = f\"[https://swapi.dev/api/{category}/](https://swapi.dev/api/%7Bcategory%7D/)\"\n",
    "    data = []\n",
    "    while url:\n",
    "    response = requests.get(url)\n",
    "    if response.status_code == 200:\n",
    "    result = response.json()\n",
    "    data.extend(result['results'])\n",
    "    url = result['next']\n",
    "    else:\n",
    "    print(\"Error:\", response.status_code)\n",
    "    break\n",
    "    return pd.DataFrame(data)"
   ]
  },
  {
   "cell_type": "code",
   "execution_count": 4,
   "id": "7b67c9c2",
   "metadata": {},
   "outputs": [],
   "source": [
    "def get_vehicles_data():\n",
    "    return get_swapi_data('vehicles')\n"
   ]
  },
  {
   "cell_type": "code",
   "execution_count": null,
   "id": "1430882c",
   "metadata": {},
   "outputs": [],
   "source": [
    "\n",
    "if **name** == \"**main**\":\n",
    "    vehicles_df = get_vehicles_data()\n",
    "    display(\"\\\\nVehicles Data:\")\n",
    "    display(vehicles_df)"
   ]
  }
 ],
 "metadata": {
  "kernelspec": {
   "display_name": "Python 3 (ipykernel)",
   "language": "python",
   "name": "python3"
  },
  "language_info": {
   "codemirror_mode": {
    "name": "ipython",
    "version": 3
   },
   "file_extension": ".py",
   "mimetype": "text/x-python",
   "name": "python",
   "nbconvert_exporter": "python",
   "pygments_lexer": "ipython3",
   "version": "3.10.6"
  }
 },
 "nbformat": 4,
 "nbformat_minor": 5
}
