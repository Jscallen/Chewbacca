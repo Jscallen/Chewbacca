{
 "cells": [
  {
   "cell_type": "code",
   "execution_count": 2,
   "id": "39b1bab4",
   "metadata": {},
   "outputs": [],
   "source": [
    "import requests\n",
    "import pandas as pd"
   ]
  },
  {
   "cell_type": "code",
   "execution_count": 3,
   "id": "4766beff",
   "metadata": {},
   "outputs": [],
   "source": [
    "def get_star_wars_data_vehicles(resource):\n",
    "    base_url = \"https://swapi.dev/api/\"\n",
    "    url = base_url + resource\n",
    "    response = requests.get(url)\n",
    "    if response.status_code == 200:\n",
    "        return response.json()\n",
    "    else:\n",
    "        return None"
   ]
  },
  {
   "cell_type": "code",
   "execution_count": 4,
   "id": "50c95188",
   "metadata": {},
   "outputs": [],
   "source": [
    "def get_vehicles():\n",
    "    vehicles_data = get_star_wars_data_vehicles(\"vehicles\")\n",
    "    return vehicles_data['results']"
   ]
  },
  {
   "cell_type": "code",
   "execution_count": 5,
   "id": "98b86eee",
   "metadata": {},
   "outputs": [
    {
     "name": "stdout",
     "output_type": "stream",
     "text": [
      "                          name                           model  \\\n",
      "0                 Sand Crawler                  Digger Crawler   \n",
      "1               T-16 skyhopper                  T-16 skyhopper   \n",
      "2             X-34 landspeeder                X-34 landspeeder   \n",
      "3           TIE/LN starfighter  Twin Ion Engine/Ln Starfighter   \n",
      "4                  Snowspeeder                 t-47 airspeeder   \n",
      "5                   TIE bomber                   TIE/sa bomber   \n",
      "6                        AT-AT   All Terrain Armored Transport   \n",
      "7                        AT-ST     All Terrain Scout Transport   \n",
      "8  Storm IV Twin-Pod cloud car               Storm IV Twin-Pod   \n",
      "9                   Sail barge      Modified Luxury Sail Barge   \n",
      "\n",
      "                                        manufacturer cost_in_credits length  \\\n",
      "0                        Corellia Mining Corporation          150000  36.8    \n",
      "1                                  Incom Corporation           14500  10.4    \n",
      "2                               SoroSuub Corporation           10550   3.4    \n",
      "3                               Sienar Fleet Systems         unknown    6.4   \n",
      "4                                  Incom corporation         unknown    4.5   \n",
      "5                               Sienar Fleet Systems         unknown    7.8   \n",
      "6  Kuat Drive Yards, Imperial Department of Milit...         unknown     20   \n",
      "7  Kuat Drive Yards, Imperial Department of Milit...         unknown      2   \n",
      "8                                      Bespin Motors           75000      7   \n",
      "9       Ubrikkian Industries Custom Vehicle Division          285000     30   \n",
      "\n",
      "  max_atmosphering_speed crew passengers cargo_capacity      consumables  \\\n",
      "0                     30   46         30          50000         2 months   \n",
      "1                   1200    1          1             50                0   \n",
      "2                    250    1          1              5          unknown   \n",
      "3                   1200    1          0             65           2 days   \n",
      "4                    650    2          0             10             none   \n",
      "5                    850    1          0           none           2 days   \n",
      "6                     60    5         40           1000          unknown   \n",
      "7                     90    2          0            200             none   \n",
      "8                   1500    2          0             10            1 day   \n",
      "9                    100   26        500        2000000  Live food tanks   \n",
      "\n",
      "            vehicle_class                                             pilots  \\\n",
      "0                 wheeled                                                 []   \n",
      "1           repulsorcraft                                                 []   \n",
      "2           repulsorcraft                                                 []   \n",
      "3             starfighter                                                 []   \n",
      "4              airspeeder  [https://swapi.dev/api/people/1/, https://swap...   \n",
      "5  space/planetary bomber                                                 []   \n",
      "6          assault walker                                                 []   \n",
      "7                  walker                 [https://swapi.dev/api/people/13/]   \n",
      "8           repulsorcraft                                                 []   \n",
      "9              sail barge                                                 []   \n",
      "\n",
      "                                               films  \\\n",
      "0  [https://swapi.dev/api/films/1/, https://swapi...   \n",
      "1                   [https://swapi.dev/api/films/1/]   \n",
      "2                   [https://swapi.dev/api/films/1/]   \n",
      "3  [https://swapi.dev/api/films/1/, https://swapi...   \n",
      "4                   [https://swapi.dev/api/films/2/]   \n",
      "5  [https://swapi.dev/api/films/2/, https://swapi...   \n",
      "6  [https://swapi.dev/api/films/2/, https://swapi...   \n",
      "7  [https://swapi.dev/api/films/2/, https://swapi...   \n",
      "8                   [https://swapi.dev/api/films/2/]   \n",
      "9                   [https://swapi.dev/api/films/3/]   \n",
      "\n",
      "                       created                       edited  \\\n",
      "0  2014-12-10T15:36:25.724000Z  2014-12-20T21:30:21.661000Z   \n",
      "1  2014-12-10T16:01:52.434000Z  2014-12-20T21:30:21.665000Z   \n",
      "2  2014-12-10T16:13:52.586000Z  2014-12-20T21:30:21.668000Z   \n",
      "3  2014-12-10T16:33:52.860000Z  2014-12-20T21:30:21.670000Z   \n",
      "4         2014-12-15T12:22:12Z  2014-12-20T21:30:21.672000Z   \n",
      "5  2014-12-15T12:33:15.838000Z  2014-12-20T21:30:21.675000Z   \n",
      "6  2014-12-15T12:38:25.937000Z  2014-12-20T21:30:21.677000Z   \n",
      "7  2014-12-15T12:46:42.384000Z  2014-12-20T21:30:21.679000Z   \n",
      "8  2014-12-15T12:58:50.530000Z  2014-12-20T21:30:21.681000Z   \n",
      "9  2014-12-18T10:44:14.217000Z  2014-12-20T21:30:21.684000Z   \n",
      "\n",
      "                                  url  \n",
      "0   https://swapi.dev/api/vehicles/4/  \n",
      "1   https://swapi.dev/api/vehicles/6/  \n",
      "2   https://swapi.dev/api/vehicles/7/  \n",
      "3   https://swapi.dev/api/vehicles/8/  \n",
      "4  https://swapi.dev/api/vehicles/14/  \n",
      "5  https://swapi.dev/api/vehicles/16/  \n",
      "6  https://swapi.dev/api/vehicles/18/  \n",
      "7  https://swapi.dev/api/vehicles/19/  \n",
      "8  https://swapi.dev/api/vehicles/20/  \n",
      "9  https://swapi.dev/api/vehicles/24/  \n"
     ]
    }
   ],
   "source": [
    "def main_vehicles():\n",
    "    vehicles = get_vehicles()\n",
    "    df = pd.DataFrame(vehicles)\n",
    "    print(df)"
   ]
  }
 ],
 "metadata": {
  "kernelspec": {
   "display_name": "Python 3 (ipykernel)",
   "language": "python",
   "name": "python3"
  },
  "language_info": {
   "codemirror_mode": {
    "name": "ipython",
    "version": 3
   },
   "file_extension": ".py",
   "mimetype": "text/x-python",
   "name": "python",
   "nbconvert_exporter": "python",
   "pygments_lexer": "ipython3",
   "version": "3.10.6"
  }
 },
 "nbformat": 4,
 "nbformat_minor": 5
}
