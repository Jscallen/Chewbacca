{
 "cells": [
  {
   "cell_type": "code",
   "execution_count": null,
   "id": "81f3d75d",
   "metadata": {},
   "outputs": [],
   "source": [
    "import pandas as pd\n",
    "import requests"
   ]
  },
  {
   "cell_type": "code",
   "execution_count": null,
   "id": "7cf8b7b9",
   "metadata": {},
   "outputs": [],
   "source": [
    "def get_star_wars_data_people(resource):\n",
    "    base_url = \"https://swapi.dev/api/\"\n",
    "    url = base_url + resource\n",
    "    response = requests.get(url)\n",
    "    if response.status_code == 200:\n",
    "        return response.json()\n",
    "    else:\n",
    "        return None"
   ]
  },
  {
   "cell_type": "code",
   "execution_count": null,
   "id": "8cac988c",
   "metadata": {},
   "outputs": [],
   "source": [
    "def get_people():\n",
    "    people_data = get_star_wars_data_people(\"people\")\n",
    "    return people_data['results']"
   ]
  },
  {
   "cell_type": "code",
   "execution_count": null,
   "id": "23e13ff3",
   "metadata": {},
   "outputs": [],
   "source": [
    "def main_people():\n",
    "    people = get_people()\n",
    "    df = pd.DataFrame(people)\n",
    "    print(df)\n",
    "\n",
    "print(main_people())"
   ]
  }
 ],
 "metadata": {
  "kernelspec": {
   "display_name": "Python 3 (ipykernel)",
   "language": "python",
   "name": "python3"
  },
  "language_info": {
   "codemirror_mode": {
    "name": "ipython",
    "version": 3
   },
   "file_extension": ".py",
   "mimetype": "text/x-python",
   "name": "python",
   "nbconvert_exporter": "python",
   "pygments_lexer": "ipython3",
   "version": "3.10.6"
  }
 },
 "nbformat": 4,
 "nbformat_minor": 5
}
